{
 "cells": [
  {
   "cell_type": "markdown",
   "metadata": {},
   "source": [
    "### 19. 各行の1コラム目の文字列の出現頻度を求め，出現頻度の高い順に並べる\n",
    "\n",
    "各行の1列目の文字列の出現頻度を求め，その高い順に並べて表示せよ．確認にはcut, uniq, sortコマンドを用いよ．"
   ]
  },
  {
   "cell_type": "code",
   "execution_count": 3,
   "metadata": {
    "collapsed": false
   },
   "outputs": [
    {
     "name": "stdout",
     "output_type": "stream",
     "text": [
      "県 23\n",
      "山 7\n",
      "知 3\n",
      "愛 3\n",
      "梨 3\n",
      "埼 3\n",
      "馬 3\n",
      "形 3\n",
      "群 3\n",
      "玉 3\n",
      "静 2\n",
      "千 2\n",
      "葉 2\n",
      "阜 2\n",
      "岐 2\n",
      "岡 2\n",
      "阪 1\n",
      "高 1\n",
      "和 1\n",
      "大 1\n",
      "府 1\n",
      "歌 1\n",
      "媛 1\n"
     ]
    }
   ],
   "source": [
    "file = open(\"hightemp.txt\").readlines()\n",
    "col1 = []\n",
    "for line in file:\n",
    "    line = line.split()\n",
    "    col1.append(line[0])\n",
    "dictionary = {}\n",
    "\n",
    "for i in range(len(col1)):\n",
    "    col = col1[i]\n",
    "    for j in range(len(col)):\n",
    "        if col[j] in dictionary:\n",
    "            dictionary[col[j]] += 1\n",
    "        else:\n",
    "            dictionary[col[j]] = 1\n",
    "dictionary = sorted(dictionary.items(), key = lambda x : x[1], reverse = True)\n",
    "for k, v in dictionary:\n",
    "    print(k, v)\n"
   ]
  },
  {
   "cell_type": "code",
   "execution_count": null,
   "metadata": {
    "collapsed": true
   },
   "outputs": [],
   "source": []
  }
 ],
 "metadata": {
  "kernelspec": {
   "display_name": "Python [conda root]",
   "language": "python",
   "name": "conda-root-py"
  },
  "language_info": {
   "codemirror_mode": {
    "name": "ipython",
    "version": 3
   },
   "file_extension": ".py",
   "mimetype": "text/x-python",
   "name": "python",
   "nbconvert_exporter": "python",
   "pygments_lexer": "ipython3",
   "version": "3.5.2"
  }
 },
 "nbformat": 4,
 "nbformat_minor": 1
}
