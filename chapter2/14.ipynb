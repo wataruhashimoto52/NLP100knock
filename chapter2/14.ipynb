{
 "cells": [
  {
   "cell_type": "markdown",
   "metadata": {},
   "source": [
    "### 14. 先頭からN行を出力\n",
    "\n",
    "自然数Nをコマンドライン引数などの手段で受け取り，入力のうち先頭のN行だけを表示せよ．確認にはheadコマンドを用いよ．\n",
    "\n"
   ]
  },
  {
   "cell_type": "code",
   "execution_count": 2,
   "metadata": {
    "collapsed": false
   },
   "outputs": [
    {
     "name": "stdout",
     "output_type": "stream",
     "text": [
      "number:5\n",
      "高知県   江川崎   41  2013-08-12\n",
      "\n",
      "埼玉県   熊谷  40.9    2007-08-16\n",
      "\n",
      "岐阜県   多治見   40.9    2007-08-16\n",
      "\n",
      "山形県   山形  40.8    1933-07-25\n",
      "\n",
      "山梨県   甲府  40.7    2013-08-10\n",
      "\n"
     ]
    }
   ],
   "source": [
    "number = int(input(\"number:\"))\n",
    "file = open(\"hightemp.txt\").readlines()\n",
    "\n",
    "for i in range(number):\n",
    "    print(file[i])"
   ]
  },
  {
   "cell_type": "code",
   "execution_count": null,
   "metadata": {
    "collapsed": true
   },
   "outputs": [],
   "source": []
  }
 ],
 "metadata": {
  "anaconda-cloud": {},
  "kernelspec": {
   "display_name": "Python [conda root]",
   "language": "python",
   "name": "conda-root-py"
  },
  "language_info": {
   "codemirror_mode": {
    "name": "ipython",
    "version": 3
   },
   "file_extension": ".py",
   "mimetype": "text/x-python",
   "name": "python",
   "nbconvert_exporter": "python",
   "pygments_lexer": "ipython3",
   "version": "3.5.2"
  }
 },
 "nbformat": 4,
 "nbformat_minor": 1
}
