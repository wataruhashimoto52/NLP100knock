{
 "cells": [
  {
   "cell_type": "markdown",
   "metadata": {},
   "source": [
    "### 12. 1列目をcol1.txtに，2列目をcol2.txtに保存\n",
    "\n",
    "各行の1列目だけを抜き出したものをcol1.txtに，2列目だけを抜き出したものをcol2.txtとしてファイルに保存せよ．確認にはcutコマンドを用いよ．\n",
    "\n"
   ]
  },
  {
   "cell_type": "code",
   "execution_count": 5,
   "metadata": {
    "collapsed": false
   },
   "outputs": [],
   "source": [
    "file = \"hightemp.txt\"\n",
    "wfile1 = open(\"col1.txt\", 'w', encoding = \"utf-8\")\n",
    "wfile2 = open(\"col2.txt\", \"w\", encoding = \"utf-8\")\n",
    "\n",
    "for line in open(file).readlines():\n",
    "    line = line.replace(\"\\t\", \" \").replace(\"\\n\", \"\")\n",
    "    lines = line.split()\n",
    "    \n",
    "    wfile1.write(lines[0])\n",
    "    wfile2.write(lines[1])\n",
    "    wfile1.write(\"\\n\")\n",
    "    wfile2.write(\"\\n\")\n",
    "\n",
    "wfile1.close()\n",
    "wfile2.close()\n",
    "    "
   ]
  },
  {
   "cell_type": "code",
   "execution_count": null,
   "metadata": {
    "collapsed": true
   },
   "outputs": [],
   "source": []
  }
 ],
 "metadata": {
  "kernelspec": {
   "display_name": "Python [conda root]",
   "language": "python",
   "name": "conda-root-py"
  },
  "language_info": {
   "codemirror_mode": {
    "name": "ipython",
    "version": 3
   },
   "file_extension": ".py",
   "mimetype": "text/x-python",
   "name": "python",
   "nbconvert_exporter": "python",
   "pygments_lexer": "ipython3",
   "version": "3.5.2"
  }
 },
 "nbformat": 4,
 "nbformat_minor": 1
}
