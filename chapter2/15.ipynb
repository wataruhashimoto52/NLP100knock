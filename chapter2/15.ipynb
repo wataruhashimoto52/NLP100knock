{
 "cells": [
  {
   "cell_type": "markdown",
   "metadata": {
    "collapsed": false
   },
   "source": [
    "### 15. 末尾のN行を出力\n",
    "自然数Nをコマンドライン引数などの手段で受け取り，入力のうち末尾のN行だけを表示せよ．確認にはtailコマンドを用いよ．"
   ]
  },
  {
   "cell_type": "code",
   "execution_count": 5,
   "metadata": {
    "collapsed": false
   },
   "outputs": [
    {
     "name": "stdout",
     "output_type": "stream",
     "text": [
      "Number:5\n",
      "埼玉県   鳩山  39.9    1997-07-05\n",
      "\n",
      "大阪府   豊中  39.9    1994-08-08\n",
      "\n",
      "山梨県   大月  39.9    1990-07-19\n",
      "\n",
      "山形県   鶴岡  39.9    1978-08-03\n",
      "\n",
      "愛知県   名古屋   39.9    1942-08-02\n"
     ]
    }
   ],
   "source": [
    "number = int(input(\"Number:\"))\n",
    "file = open(\"hightemp.txt\").readlines()\n",
    "\n",
    "for i in range(len(file)-number, len(file)):\n",
    "    print(file[i])"
   ]
  },
  {
   "cell_type": "code",
   "execution_count": null,
   "metadata": {
    "collapsed": true
   },
   "outputs": [],
   "source": []
  }
 ],
 "metadata": {
  "anaconda-cloud": {},
  "kernelspec": {
   "display_name": "Python [conda root]",
   "language": "python",
   "name": "conda-root-py"
  },
  "language_info": {
   "codemirror_mode": {
    "name": "ipython",
    "version": 3
   },
   "file_extension": ".py",
   "mimetype": "text/x-python",
   "name": "python",
   "nbconvert_exporter": "python",
   "pygments_lexer": "ipython3",
   "version": "3.5.2"
  }
 },
 "nbformat": 4,
 "nbformat_minor": 1
}
