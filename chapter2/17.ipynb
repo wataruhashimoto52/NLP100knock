{
 "cells": [
  {
   "cell_type": "markdown",
   "metadata": {},
   "source": [
    "### 17. １列目の文字列の異なり\n",
    "1列目の文字列の種類（異なる文字列の集合）を求めよ．確認にはsort, uniqコマンドを用いよ．"
   ]
  },
  {
   "cell_type": "code",
   "execution_count": 4,
   "metadata": {
    "collapsed": false
   },
   "outputs": [
    {
     "data": {
      "text/plain": [
       "{'千',\n",
       " '和',\n",
       " '埼',\n",
       " '大',\n",
       " '媛',\n",
       " '山',\n",
       " '岐',\n",
       " '岡',\n",
       " '府',\n",
       " '形',\n",
       " '愛',\n",
       " '梨',\n",
       " '歌',\n",
       " '玉',\n",
       " '県',\n",
       " '知',\n",
       " '群',\n",
       " '葉',\n",
       " '阜',\n",
       " '阪',\n",
       " '静',\n",
       " '馬',\n",
       " '高'}"
      ]
     },
     "execution_count": 4,
     "metadata": {},
     "output_type": "execute_result"
    }
   ],
   "source": [
    "file = open(\"hightemp.txt\").readlines()\n",
    "col1 = []\n",
    "for line in file:\n",
    "    line = line.split()\n",
    "    col1.append(line[0])\n",
    "\n",
    "str_set = set()\n",
    "for i in range(len(col1)):\n",
    "    col = col1[i]\n",
    "    for j in range(len(col)):\n",
    "        if col[j] not in str_set:\n",
    "            str_set.add(col[j])\n",
    "        else:\n",
    "            continue\n",
    "\n",
    "str_set"
   ]
  },
  {
   "cell_type": "code",
   "execution_count": null,
   "metadata": {
    "collapsed": true
   },
   "outputs": [],
   "source": []
  }
 ],
 "metadata": {
  "anaconda-cloud": {},
  "kernelspec": {
   "display_name": "Python [conda root]",
   "language": "python",
   "name": "conda-root-py"
  },
  "language_info": {
   "codemirror_mode": {
    "name": "ipython",
    "version": 3
   },
   "file_extension": ".py",
   "mimetype": "text/x-python",
   "name": "python",
   "nbconvert_exporter": "python",
   "pygments_lexer": "ipython3",
   "version": "3.5.2"
  }
 },
 "nbformat": 4,
 "nbformat_minor": 1
}
