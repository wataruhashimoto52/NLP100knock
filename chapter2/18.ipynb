{
 "cells": [
  {
   "cell_type": "markdown",
   "metadata": {},
   "source": [
    "### 18. 各行を3コラム目の数値の降順にソート\n",
    "\n",
    "各行を3コラム目の数値の逆順で整列せよ（注意: 各行の内容は変更せずに並び替えよ）．確認にはsortコマンドを用いよ（この問題はコマンドで実行した時の結果と合わなくてもよい）．"
   ]
  },
  {
   "cell_type": "code",
   "execution_count": 10,
   "metadata": {
    "collapsed": false
   },
   "outputs": [
    {
     "name": "stdout",
     "output_type": "stream",
     "text": [
      "山形県   鶴岡  39.9    1978-08-03\n",
      " 39.9\n",
      "大阪府   豊中  39.9    1994-08-08\n",
      " 39.9\n",
      "埼玉県   鳩山  39.9    1997-07-05\n",
      " 39.9\n",
      "千葉県   茂原  39.9    2013-08-11\n",
      " 39.9\n",
      "山梨県   大月  39.9    1990-07-19\n",
      " 39.9\n",
      "愛知県   名古屋   39.9    1942-08-02 39.9\n",
      "岐阜県   美濃  40  2007-08-16\n",
      " 40.0\n",
      "群馬県   前橋  40  2001-07-24\n",
      " 40.0\n",
      "山形県   酒田  40.1    1978-08-03\n",
      " 40.1\n",
      "愛媛県   宇和島   40.2    1927-07-22\n",
      " 40.2\n",
      "静岡県   佐久間   40.2    2001-07-24\n",
      " 40.2\n",
      "千葉県   牛久  40.2    2004-07-20\n",
      " 40.2\n",
      "群馬県   上里見   40.3    1998-07-04\n",
      " 40.3\n",
      "愛知県   愛西  40.3    1994-08-05\n",
      " 40.3\n",
      "群馬県   館林  40.3    2007-08-16\n",
      " 40.3\n",
      "埼玉県   越谷  40.4    2007-08-16\n",
      " 40.4\n",
      "山梨県   勝沼  40.5    2013-08-10\n",
      " 40.5\n",
      "静岡県   天竜  40.6    1994-08-04\n",
      " 40.6\n",
      "和歌山県    かつらぎ    40.6    1994-08-08\n",
      " 40.6\n",
      "山梨県   甲府  40.7    2013-08-10\n",
      " 40.7\n",
      "山形県   山形  40.8    1933-07-25\n",
      " 40.8\n",
      "埼玉県   熊谷  40.9    2007-08-16\n",
      " 40.9\n",
      "岐阜県   多治見   40.9    2007-08-16\n",
      " 40.9\n",
      "高知県   江川崎   41  2013-08-12\n",
      " 41.0\n"
     ]
    }
   ],
   "source": [
    "file = open(\"hightemp.txt\").readlines()\n",
    "file1 = [file[i].split() for i in range(len(file))]\n",
    "num_list = []\n",
    "for line in file1:\n",
    "    num_list.append(float(line[2]))\n",
    "\n",
    "dictionary = dict(zip(file, num_list))\n",
    "\n",
    "b = sorted(dictionary.items(), key = lambda x: x[1])\n",
    "\n",
    "for k, v in b:\n",
    "    print(k, v)\n"
   ]
  },
  {
   "cell_type": "code",
   "execution_count": null,
   "metadata": {
    "collapsed": true
   },
   "outputs": [],
   "source": []
  }
 ],
 "metadata": {
  "kernelspec": {
   "display_name": "Python [conda root]",
   "language": "python",
   "name": "conda-root-py"
  },
  "language_info": {
   "codemirror_mode": {
    "name": "ipython",
    "version": 3
   },
   "file_extension": ".py",
   "mimetype": "text/x-python",
   "name": "python",
   "nbconvert_exporter": "python",
   "pygments_lexer": "ipython3",
   "version": "3.5.2"
  }
 },
 "nbformat": 4,
 "nbformat_minor": 1
}
